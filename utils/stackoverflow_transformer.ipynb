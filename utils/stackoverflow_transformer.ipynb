{
 "cells": [
  {
   "cell_type": "markdown",
   "metadata": {},
   "source": [
    "Transformer for xml files from stackoverflow."
   ]
  },
  {
   "cell_type": "code",
   "execution_count": 2,
   "metadata": {
    "collapsed": true
   },
   "outputs": [],
   "source": [
    "import os\n",
    "import glob\n",
    "try:\n",
    "    import xml.etree.cElementTree as ET\n",
    "except ImportError:\n",
    "    import xml.etree.ElementTree as ET\n",
    "import csv"
   ]
  },
  {
   "cell_type": "code",
   "execution_count": 3,
   "metadata": {
    "collapsed": true
   },
   "outputs": [],
   "source": [
    "BASE = os.path.dirname(os.path.dirname(os.path.abspath(__name__)))\n",
    "\n",
    "folder = os.path.join(BASE, \"data/raw/stackoverflow\")\n",
    "\n",
    "csv_folder = os.path.join(BASE, \"data/cleaned/stackoverflow\")"
   ]
  },
  {
   "cell_type": "code",
   "execution_count": 4,
   "metadata": {
    "collapsed": true
   },
   "outputs": [],
   "source": [
    "files = glob.glob(os.path.join(folder, \"*.xml\"))"
   ]
  },
  {
   "cell_type": "code",
   "execution_count": 5,
   "metadata": {},
   "outputs": [
    {
     "name": "stdout",
     "output_type": "stream",
     "text": [
      "Converting xml to csv....\n",
      "\t2017-10-06-14-03.csv saved\n",
      "Converting xml to csv....\n",
      "\t2017-10-07-19-19.csv saved\n",
      "Converting xml to csv....\n",
      "\t2017-10-10-20-07.csv saved\n",
      "Converting xml to csv....\n",
      "\t2017-10-11-21-49.csv saved\n",
      "Converting xml to csv....\n",
      "\t2017-10-12-15-54.csv saved\n",
      "Converting xml to csv....\n",
      "\t2017-10-13-11-56.csv saved\n",
      "Converting xml to csv....\n",
      "\t2017-10-14-17-40.csv saved\n",
      "Converting xml to csv....\n",
      "\t2017-10-15-11-47.csv saved\n",
      "Converting xml to csv....\n",
      "\t2017-10-17-08-51.csv saved\n",
      "Converting xml to csv....\n",
      "\t2017-10-17-21-55.csv saved\n",
      "Converting xml to csv....\n",
      "\t2017-10-18-16-57.csv saved\n",
      "Converting xml to csv....\n",
      "\t2017-10-18-21-55.csv saved\n",
      "Converting xml to csv....\n",
      "\t2017-10-19-21-05.csv saved\n",
      "Converting xml to csv....\n",
      "\t2017-10-20-11-22.csv saved\n",
      "Converting xml to csv....\n",
      "\t2017-10-22-09-27.csv saved\n",
      "Converting xml to csv....\n",
      "\t2017-10-22-09-28.csv saved\n",
      "Converting xml to csv....\n",
      "\t2017-10-25-09-46.csv saved\n",
      "Converting xml to csv....\n",
      "\t2017-10-26-13-39.csv saved\n"
     ]
    }
   ],
   "source": [
    "for file in files:\n",
    "\n",
    "    tree = ET.parse(file)\n",
    "    root = tree.getroot()\n",
    "    \n",
    "    filename = os.path.basename(file)\n",
    "    csv_filename = \"\".join((os.path.splitext(filename)[0], \".csv\"))\n",
    "    csv_path = os.path.join(csv_folder, csv_filename)\n",
    "\n",
    "    print(\"Converting xml to csv....\")\n",
    "\n",
    "    with open(csv_path, 'w') as csvfile:\n",
    "        \n",
    "        fieldnames = [\n",
    "            'id', 'published_on', 'updated_on', 'company', \n",
    "            'slug', 'title', 'link', 'content', 'tags'\n",
    "        ]\n",
    "        writer = csv.DictWriter(csvfile, fieldnames=fieldnames)\n",
    "        writer.writeheader()\n",
    "   \n",
    "        for elem in root.iter(tag='item'):\n",
    "\n",
    "            data = {}\n",
    "\n",
    "            data['id'] = elem.find('guid').text\n",
    "\n",
    "            data['published_on'] = elem.find('pubDate').text\n",
    "\n",
    "            data['updated_on'] = elem.find('{http://www.w3.org/2005/Atom}updated').text\n",
    "\n",
    "            data['company'] = elem.find('{http://www.w3.org/2005/Atom}author').\\\n",
    "                        find('{http://www.w3.org/2005/Atom}name').text\n",
    "\n",
    "            data['slug'] = elem.find('link').text.split(\"/\")[-1]\n",
    "\n",
    "            data['title'] = elem.find('title').text\n",
    "\n",
    "            data['link'] = elem.find('link').text\n",
    "\n",
    "            data['content'] = elem.find('description').text\n",
    "\n",
    "            data['tags'] = [cat.text for cat in elem.findall('category')]\n",
    "\n",
    "            writer.writerow(data)\n",
    "            \n",
    "        print(f\"\\t{csv_filename} saved\")"
   ]
  }
 ],
 "metadata": {
  "kernelspec": {
   "display_name": "Python 3",
   "language": "python",
   "name": "python3"
  },
  "language_info": {
   "codemirror_mode": {
    "name": "ipython",
    "version": 3
   },
   "file_extension": ".py",
   "mimetype": "text/x-python",
   "name": "python",
   "nbconvert_exporter": "python",
   "pygments_lexer": "ipython3",
   "version": "3.6.2"
  }
 },
 "nbformat": 4,
 "nbformat_minor": 2
}
