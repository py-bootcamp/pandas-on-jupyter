{
 "cells": [
  {
   "cell_type": "markdown",
   "metadata": {},
   "source": [
    "This notebook collects data from stackoverflow and berlinstartupjobs."
   ]
  },
  {
   "cell_type": "code",
   "execution_count": 2,
   "metadata": {
    "collapsed": true
   },
   "outputs": [],
   "source": [
    "from datetime import datetime\n",
    "from functools import partial\n",
    "from tornado import gen \n",
    "from tornado import ioloop\n",
    "from tornado import httpclient"
   ]
  },
  {
   "cell_type": "code",
   "execution_count": 3,
   "metadata": {
    "collapsed": true
   },
   "outputs": [],
   "source": [
    "@gen.coroutine\n",
    "def main(targets):\n",
    "    \n",
    "    for name,values in targets.items():\n",
    "        print(f\"{name}\")\n",
    "        url = values['url']\n",
    "        folder = values['folder']\n",
    "        extension = values[\"extension\"]\n",
    "        \n",
    "        now = datetime.utcnow()\n",
    "        response = yield fetcher(url)\n",
    "        \n",
    "        file_name = \"\".join((folder, now.strftime(\"%Y-%m-%d-%H-%M\"), \".\", extension))\n",
    "        with open(file_name, mode='wb') as f:\n",
    "            f.write(response.body)\n",
    "        \n",
    "        print(f\"\\tFetched and saved as: {file_name}\")"
   ]
  },
  {
   "cell_type": "code",
   "execution_count": 9,
   "metadata": {
    "collapsed": true
   },
   "outputs": [],
   "source": [
    "@gen.coroutine\n",
    "def fetcher(url):\n",
    "    \n",
    "    print(f\"\\tFetching: {url}\")\n",
    "    \n",
    "    try:\n",
    "        response = yield httpclient.AsyncHTTPClient().fetch(url)\n",
    "    except httpclient.HTTPError as err:\n",
    "        print(\"Error: \" + str(err))\n",
    "    return response"
   ]
  },
  {
   "cell_type": "code",
   "execution_count": 5,
   "metadata": {
    "collapsed": true
   },
   "outputs": [],
   "source": [
    "targets = {}"
   ]
  },
  {
   "cell_type": "code",
   "execution_count": 6,
   "metadata": {
    "collapsed": true
   },
   "outputs": [],
   "source": [
    "# Fetching from stackoverflow\n",
    "url = \"https://stackoverflow.com/jobs/feed?l=Berlino%2c+Germania&d=100&u=Km\"\n",
    "folder = \"../data/raw/stackoverflow/\"\n",
    "targets[\"stackoverflow\"] = {\"url\": url, \"folder\": folder, \"extension\": \"xml\"}"
   ]
  },
  {
   "cell_type": "code",
   "execution_count": 7,
   "metadata": {
    "collapsed": true
   },
   "outputs": [],
   "source": [
    "# Fetching from berlinstartupjobs\n",
    "url = \"http://berlinstartupjobs.com/wp-json/wp/v2/posts?categories=9&per_page=100\"\n",
    "folder = \"../data/raw/berlinstartupjobs/\"\n",
    "targets[\"berlinstartupjobs\"] = {\"url\": url, \"folder\": folder, \"extension\": \"json\"}"
   ]
  },
  {
   "cell_type": "code",
   "execution_count": 8,
   "metadata": {
    "scrolled": false
   },
   "outputs": [
    {
     "name": "stdout",
     "output_type": "stream",
     "text": [
      "stackoverflow\n",
      "\tFetching: https://stackoverflow.com/jobs/feed?l=Berlino%2c+Germania&d=100&u=Km\n",
      "\tFetched and saved as: ../data/raw/stackoverflow/2017-10-27-07-51.xml\n",
      "berlinstartupjobs\n",
      "\tFetching: http://berlinstartupjobs.com/wp-json/wp/v2/posts?categories=9&per_page=100\n",
      "\tFetched and saved as: ../data/raw/berlinstartupjobs/2017-10-27-07-51.json\n"
     ]
    }
   ],
   "source": [
    "io_loop = ioloop.IOLoop.current()\n",
    "io_loop.add_callback(partial(main, targets=targets))"
   ]
  }
 ],
 "metadata": {
  "kernelspec": {
   "display_name": "Python 3",
   "language": "python",
   "name": "python3"
  },
  "language_info": {
   "codemirror_mode": {
    "name": "ipython",
    "version": 3
   },
   "file_extension": ".py",
   "mimetype": "text/x-python",
   "name": "python",
   "nbconvert_exporter": "python",
   "pygments_lexer": "ipython3",
   "version": "3.6.2"
  }
 },
 "nbformat": 4,
 "nbformat_minor": 2
}
