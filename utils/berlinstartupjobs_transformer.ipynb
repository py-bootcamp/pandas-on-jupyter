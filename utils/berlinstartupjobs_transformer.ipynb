{
 "cells": [
  {
   "cell_type": "markdown",
   "metadata": {},
   "source": [
    "Transformer for Berlinstartupjobs."
   ]
  },
  {
   "cell_type": "code",
   "execution_count": 1,
   "metadata": {
    "collapsed": true
   },
   "outputs": [],
   "source": [
    "import os\n",
    "import json\n",
    "import glob\n",
    "import csv"
   ]
  },
  {
   "cell_type": "code",
   "execution_count": 2,
   "metadata": {
    "collapsed": true
   },
   "outputs": [],
   "source": [
    "BASE = os.path.dirname(os.path.dirname(os.path.abspath(__name__)))"
   ]
  },
  {
   "cell_type": "code",
   "execution_count": 3,
   "metadata": {
    "collapsed": true
   },
   "outputs": [],
   "source": [
    "folder = os.path.join(BASE, \"data/raw/berlinstartupjobs\")\n",
    "csv_folder = os.path.join(BASE, \"data/cleaned/berlinstartupjobs\")"
   ]
  },
  {
   "cell_type": "code",
   "execution_count": 4,
   "metadata": {
    "collapsed": true
   },
   "outputs": [],
   "source": [
    "files = glob.glob(os.path.join(folder, \"*.json\"))"
   ]
  },
  {
   "cell_type": "code",
   "execution_count": 5,
   "metadata": {},
   "outputs": [
    {
     "data": {
      "text/plain": [
       "14"
      ]
     },
     "execution_count": 5,
     "metadata": {},
     "output_type": "execute_result"
    }
   ],
   "source": [
    "len(files)"
   ]
  },
  {
   "cell_type": "code",
   "execution_count": 7,
   "metadata": {
    "collapsed": true
   },
   "outputs": [],
   "source": [
    "# some easy cleanings\n",
    "def clean_entry(entries):\n",
    "    \n",
    "    _entries = []\n",
    "    \n",
    "    for entry in entries:\n",
    "        \n",
    "        _entry = {}\n",
    "        \n",
    "        _entry['id'] = entry['id']\n",
    "        \n",
    "        _entry['published_on'] = entry['date_gmt']\n",
    "        \n",
    "        _entry['updated_on'] = entry['modified_gmt']\n",
    "        \n",
    "        _, _entry['company']  = entry['title']['rendered'].split(\" // \")\n",
    "        \n",
    "        _entry['slug'] = entry['slug']\n",
    "        \n",
    "        _entry['title'] = entry['title']['rendered']\n",
    "        \n",
    "        _entry['link'] = entry['link']\n",
    "        \n",
    "        _entry['content'] = entry['content']['rendered']\n",
    "        \n",
    "        _entry['tags'] = entry['tags']\n",
    "        \n",
    "        _entries.append(_entry)\n",
    "        \n",
    "    return _entries"
   ]
  },
  {
   "cell_type": "code",
   "execution_count": 8,
   "metadata": {},
   "outputs": [
    {
     "name": "stdout",
     "output_type": "stream",
     "text": [
      "Converting json to csv....\n",
      "\t2017-10-11-21-49.csv saved\n",
      "Converting json to csv....\n",
      "\t2017-10-12-15-54.csv saved\n",
      "Converting json to csv....\n",
      "\t2017-10-13-11-56.csv saved\n",
      "Converting json to csv....\n",
      "\t2017-10-14-17-40.csv saved\n",
      "Converting json to csv....\n",
      "\t2017-10-15-11-47.csv saved\n",
      "Converting json to csv....\n",
      "\t2017-10-17-08-51.csv saved\n",
      "Converting json to csv....\n",
      "\t2017-10-17-21-55.csv saved\n",
      "Converting json to csv....\n",
      "\t2017-10-18-16-57.csv saved\n",
      "Converting json to csv....\n",
      "\t2017-10-18-21-55.csv saved\n",
      "Converting json to csv....\n",
      "\t2017-10-19-21-05.csv saved\n",
      "Converting json to csv....\n",
      "\t2017-10-20-11-22.csv saved\n",
      "Converting json to csv....\n",
      "\t2017-10-22-09-28.csv saved\n",
      "Converting json to csv....\n",
      "\t2017-10-25-09-46.csv saved\n",
      "Converting json to csv....\n",
      "\t2017-10-26-13-39.csv saved\n"
     ]
    }
   ],
   "source": [
    "for file in files:\n",
    "    with open(file, mode=\"r\") as f:\n",
    "        try:\n",
    "            entries = json.loads(f.read())\n",
    "        except json.JSONDecodeError:\n",
    "            print(f\"Error: {file}\")\n",
    "            continue\n",
    "        \n",
    "    cleaned_entries = clean_entry(entries)\n",
    "    \n",
    "    del entries\n",
    "        \n",
    "    filename = os.path.basename(file)\n",
    "    csv_filename = \"\".join((os.path.splitext(filename)[0], \".csv\"))\n",
    "    csv_path = os.path.join(csv_folder, csv_filename)\n",
    "    \n",
    "    print(\"Converting json to csv....\")\n",
    "    \n",
    "    with open(csv_path, 'w') as f:\n",
    "        w = csv.DictWriter(f, cleaned_entries[0].keys())\n",
    "        w.writeheader()\n",
    "        w.writerows(cleaned_entries)\n",
    "    print(f\"\\t{csv_filename} saved\")"
   ]
  },
  {
   "cell_type": "code",
   "execution_count": 22,
   "metadata": {
    "collapsed": true
   },
   "outputs": [],
   "source": [
    "# View for post: http://berlinstartupjobs.com/wp-json/wp/v2/posts/68396\n",
    "# View for tag: http://berlinstartupjobs.com/wp-json/wp/v2/tags/20\n",
    "uri = \"/Users/christianbarra/Projects/pybootcamp/workshops/pandas-on-jupyter/data/raw/berlinstartupjobs/2017-10-22-09-27.json\""
   ]
  }
 ],
 "metadata": {
  "kernelspec": {
   "display_name": "Python 3",
   "language": "python",
   "name": "python3"
  },
  "language_info": {
   "codemirror_mode": {
    "name": "ipython",
    "version": 3
   },
   "file_extension": ".py",
   "mimetype": "text/x-python",
   "name": "python",
   "nbconvert_exporter": "python",
   "pygments_lexer": "ipython3",
   "version": "3.6.2"
  }
 },
 "nbformat": 4,
 "nbformat_minor": 2
}
