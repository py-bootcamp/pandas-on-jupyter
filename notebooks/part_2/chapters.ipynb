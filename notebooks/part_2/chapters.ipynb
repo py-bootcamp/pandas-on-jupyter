{
 "cells": [
  {
   "cell_type": "markdown",
   "metadata": {},
   "source": [
    "# Introduction to data analysis"
   ]
  },
  {
   "cell_type": "markdown",
   "metadata": {},
   "source": [
    "## What is data analysis"
   ]
  },
  {
   "cell_type": "markdown",
   "metadata": {},
   "source": [
    "** Data analysis**, also known as analysis of data or data analytics, is a process of **inspecting, cleansing, transforming, and modeling data with the goal of discovering useful information, suggesting conclusions, and supporting decision-making**. Data analysis has multiple facets and approaches, encompassing diverse techniques under a variety of names, in different business, science, and social science domains.\n",
    "\n",
    "from [Wikipedia](https://en.wikipedia.org/wiki/Data_analysis)"
   ]
  },
  {
   "cell_type": "markdown",
   "metadata": {},
   "source": [
    "**Statistics** is a branch of mathematics dealing with the **collection, analysis, interpretation, presentation, and organization of data**. In applying statistics to, e.g., a scientific, industrial, or social problem, it is conventional to begin with a statistical population or a statistical model process to be studied. Populations can be diverse topics such as \"all people living in a country\" or \"every atom composing a crystal.\" Statistics deals with all aspects of data including the planning of data collection in terms of the design of surveys and experiments.\n",
    "\n",
    "from [Wikipedia](https://en.wikipedia.org/wiki/Statistics)\n"
   ]
  },
  {
   "cell_type": "markdown",
   "metadata": {},
   "source": [
    "> ## Goal of discovering useful information\n",
    "> ## Suggesting conclusions\n",
    "> ## Supporting decision-making"
   ]
  },
  {
   "cell_type": "markdown",
   "metadata": {},
   "source": [
    "So it's a:\n",
    " * (discovering) process\n",
    " * you should get to some conclusions\n",
    " * and support decision-making process"
   ]
  },
  {
   "cell_type": "markdown",
   "metadata": {},
   "source": [
    "Because you want to get to some conclusions, usually you want to start with:\n",
    "    * hypothesis: something that you consider true and you want to verify\n",
    "    * assumptions: something that you accepted as true\n",
    "    * questions: you have no idea an you want to figure it out"
   ]
  },
  {
   "cell_type": "markdown",
   "metadata": {},
   "source": [
    "The data analysis process is usally *mixed*, you probably start with some hypothesis or assumptions and then, along the process, you gain new insights and new questions.\n",
    "\n",
    "Sometimes is the opposite and you just start with some questions."
   ]
  },
  {
   "cell_type": "markdown",
   "metadata": {},
   "source": [
    "### Our quest"
   ]
  },
  {
   "cell_type": "markdown",
   "metadata": {},
   "source": [
    "We want to gather more information about Berlin's job offers. Ideally we would like to find all the job offers in Berlin and try to understand which kind of skills should I develop (or perhaps I already have)"
   ]
  },
  {
   "cell_type": "markdown",
   "metadata": {},
   "source": [
    "Our questions:\n",
    "    * is the job market growing?\n",
    "    * What is the most researched position?\n",
    "    * Which kind of skills are companies looking for?"
   ]
  },
  {
   "cell_type": "markdown",
   "metadata": {},
   "source": [
    "## Our data"
   ]
  },
  {
   "cell_type": "markdown",
   "metadata": {},
   "source": [
    "I scraped the https://stackoverflow.com/jobs website and http://berlinstartupjobs.com/ (you can find the data in /data/raw)."
   ]
  },
  {
   "cell_type": "markdown",
   "metadata": {},
   "source": [
    "## How to structure your folder"
   ]
  },
  {
   "cell_type": "markdown",
   "metadata": {
    "collapsed": true
   },
   "source": [
    "> This is **MY** folders structure"
   ]
  },
  {
   "cell_type": "markdown",
   "metadata": {},
   "source": [
    "**As a general rule avoid useless complexity.**"
   ]
  },
  {
   "cell_type": "markdown",
   "metadata": {},
   "source": [
    "\n",
    "```nohighlight\n",
    "├── LICENSE            <- The top-level README for developers using this project.\n",
    "├── README.md          <- The top-level README for developers using this project.\n",
    "├── data\n",
    "│   ├── cleaned        <- Cleaned dataset\n",
    "│   └── raw            <- Raw dataset\n",
    "│\n",
    "├── docs               <- If you don't want to use only the README.md\n",
    "│\n",
    "├── models             <- Trained and serialized models, model predictions, or model summaries\n",
    "│\n",
    "├── notebooks          <- Jupyter notebooks\n",
    "│\n",
    "├── reports            <- Generated analysis as HTML, PDF, LaTeX, etc.\n",
    "│\n",
    "├── requirements.txt   <- List of libraries to run the process\n",
    "│\n",
    "├── environment.yml    <- If you are using anaconda you can consider using environment.yml \n",
    "│\n",
    "├── utils              <- Utils that might be useful \n",
    "```"
   ]
  }
 ],
 "metadata": {
  "kernelspec": {
   "display_name": "Python 3",
   "language": "python",
   "name": "python3"
  },
  "language_info": {
   "codemirror_mode": {
    "name": "ipython",
    "version": 3
   },
   "file_extension": ".py",
   "mimetype": "text/x-python",
   "name": "python",
   "nbconvert_exporter": "python",
   "pygments_lexer": "ipython3",
   "version": "3.6.2"
  }
 },
 "nbformat": 4,
 "nbformat_minor": 2
}
