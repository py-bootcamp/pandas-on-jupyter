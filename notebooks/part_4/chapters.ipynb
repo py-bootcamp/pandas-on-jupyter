{
 "cells": [
  {
   "cell_type": "markdown",
   "metadata": {},
   "source": [
    "# Share you results & Conclusion"
   ]
  },
  {
   "cell_type": "markdown",
   "metadata": {},
   "source": [
    "* [Back to our questions](#Back-to-our-questions)\n",
    "* [How to share our results](#How-to-share-our-results)\n",
    "* [Versioning with ipynb](#Versioning-with-ipynb)\n",
    "* [Where to go from here](#Where-to-go-from-here)"
   ]
  },
  {
   "cell_type": "markdown",
   "metadata": {},
   "source": [
    "## Back to our questions"
   ]
  },
  {
   "cell_type": "markdown",
   "metadata": {},
   "source": [
    "We definitively know more about jobs request in Berlin!"
   ]
  },
  {
   "cell_type": "markdown",
   "metadata": {},
   "source": [
    "Now we can answer these questions:\n",
    "    * Number of offers available\n",
    "    * Skills generally requested (using tags)\n",
    "    * Companies more active with recruiting\n",
    "    * More Pythonic companies\n",
    "    * Average length of the descriptions\n",
    "    * And many more"
   ]
  },
  {
   "cell_type": "markdown",
   "metadata": {},
   "source": [
    "We have more insights and knowledge about the Berlin's market now!"
   ]
  },
  {
   "cell_type": "markdown",
   "metadata": {},
   "source": [
    "## How to share our results"
   ]
  },
  {
   "cell_type": "markdown",
   "metadata": {},
   "source": [
    "You receive an email from you manager/boss/supervisor:\n",
    "\n",
    "> Just send me what you discovered."
   ]
  },
  {
   "cell_type": "markdown",
   "metadata": {},
   "source": [
    "You send him back a link to your private repository and you receive a new email:\n",
    "\n",
    "> What the heck is this!?!?\n",
    "\n",
    "> I can't open the file with Word or Powerpoint, I need a pdf or a simple webpage."
   ]
  },
  {
   "cell_type": "markdown",
   "metadata": {},
   "source": [
    "Let's build a simple presentation (5 pages) to make him very happy."
   ]
  },
  {
   "cell_type": "markdown",
   "metadata": {
    "collapsed": true
   },
   "source": [
    "Now you send and pdf presentation plus the html\n",
    "\n",
    "> Cool, did you do this with that strange thing called Python?\n",
    "\n",
    "> I ❤️ Python!"
   ]
  },
  {
   "cell_type": "markdown",
   "metadata": {},
   "source": [
    "### To convert a notebook to slides using reveal.js"
   ]
  },
  {
   "cell_type": "markdown",
   "metadata": {},
   "source": [
    "```bash\n",
    "jupyter-nbcovert name-of-the-notebook --to slides --post serve\n",
    "```"
   ]
  },
  {
   "cell_type": "code",
   "execution_count": null,
   "metadata": {
    "collapsed": true
   },
   "outputs": [],
   "source": [
    "### To convert a notebook to an html page"
   ]
  },
  {
   "cell_type": "markdown",
   "metadata": {},
   "source": [
    "```bash\n",
    "jupyter-nbconvert name-of-the-notebook --to html\n",
    "```"
   ]
  },
  {
   "cell_type": "markdown",
   "metadata": {},
   "source": [
    "## Versioning with .ipynb"
   ]
  },
  {
   "cell_type": "markdown",
   "metadata": {},
   "source": [
    "Versioning with .ipynb is really hard because the format itself make the process... infeasible.\n",
    "\n",
    "A Jupyter notebook is a long json file, these are the first lines of this Jupyter notebook."
   ]
  },
  {
   "cell_type": "code",
   "execution_count": null,
   "metadata": {},
   "outputs": [],
   "source": [
    "%%bash\n",
    "head -n 10 chapter_1.ipynb"
   ]
  },
  {
   "cell_type": "markdown",
   "metadata": {},
   "source": [
    "**There is not a really easy solution for this**.\n",
    "\n",
    "[nbdime](http://nbdime.readthedocs.io/en/latest/) is trying to resolve the problem, but is something more to install and is not generally available on Github and other git services."
   ]
  },
  {
   "cell_type": "markdown",
   "metadata": {},
   "source": [
    "The next version of Jupyter, [JupyterLab](https://github.com/jupyterlab/jupyterlab) will allow you different ways to play with the notebooks, more similar to R Studio.\n",
    "\n",
    "Probably in the future the current format will be more used to share results, and you will work with something that is more similar to a Python file."
   ]
  },
  {
   "cell_type": "markdown",
   "metadata": {},
   "source": [
    "## Where to go from here"
   ]
  },
  {
   "cell_type": "markdown",
   "metadata": {
    "collapsed": true
   },
   "source": [
    "# Well we are done!"
   ]
  },
  {
   "cell_type": "markdown",
   "metadata": {},
   "source": [
    "Some very useful and free resource:\n",
    "\n",
    "* [Jake VanderPlas // Python Data Science Handbook](https://github.com/jakevdp/PythonDataScienceHandbook)\n",
    "* [Pandas](https://pandas.pydata.org/pandas-docs/stable/tutorials.html)\n",
    "* [Idiomatic Pandas](http://tomaugspurger.github.io/modern-1-intro)\n",
    "* Meetups => [PyData Meetup Wroclaw](https://www.meetup.com/preview/PyData-Wroclaw)\n",
    "* Conferences => [PyConS](https://www.python.org/events/)\n",
    "* [YouTube: EuroPython](https://www.youtube.com/user/PythonItalia)\n",
    "* [YouTube: PyData](https://www.youtube.com/user/PyDataTV)\n",
    "* [Pandas Cheat Sheet](https://www.dataquest.io/blog/images/cheat-sheets/pandas-cheat-sheet.pdf)"
   ]
  }
 ],
 "metadata": {
  "kernelspec": {
   "display_name": "Python 3",
   "language": "python",
   "name": "python3"
  },
  "language_info": {
   "codemirror_mode": {
    "name": "ipython",
    "version": 3
   },
   "file_extension": ".py",
   "mimetype": "text/x-python",
   "name": "python",
   "nbconvert_exporter": "python",
   "pygments_lexer": "ipython3",
   "version": "3.6.2"
  }
 },
 "nbformat": 4,
 "nbformat_minor": 2
}
