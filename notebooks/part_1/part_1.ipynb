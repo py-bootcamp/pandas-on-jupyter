{
 "cells": [
  {
   "cell_type": "markdown",
   "metadata": {
    "collapsed": true
   },
   "source": [
    "# Pandas, Conda and Jupyter"
   ]
  },
  {
   "cell_type": "markdown",
   "metadata": {},
   "source": [
    "* [Short story of these tools](#Short-story-of-these-tools)\n",
    "* [How to use them together](#How-to-use-them-together)\n",
    "* [How to use conda to manage your envs](#How-to-use-conda-to-manage-your-envs)"
   ]
  },
  {
   "cell_type": "markdown",
   "metadata": {},
   "source": [
    "## Short story of these tools"
   ]
  },
  {
   "cell_type": "markdown",
   "metadata": {},
   "source": [
    "### [Pandas](pandas.pydata.org)"
   ]
  },
  {
   "cell_type": "markdown",
   "metadata": {},
   "source": [
    "Pandas is a Python library, started by Wes McKinney around 5 years ago.\n",
    "\n",
    "The library was specifically made to for with timeseries, mostly because it was made to work with financial data.\n",
    "\n",
    "Today Pandas is de-facto the standard if you want to deal with Data and Python.\n",
    "\n",
    "If you have some experience with **R**, Pandas tries to bring the *dataframe* experience in Python."
   ]
  },
  {
   "cell_type": "markdown",
   "metadata": {},
   "source": [
    "### [Conda](https://www.conda.org)"
   ]
  },
  {
   "cell_type": "markdown",
   "metadata": {},
   "source": [
    "Conda is a packet manager develop by Anaconda Inc. (before was Continuum Analitycs).\n",
    "Conda is the company attempt to resolve some of the issues that you have with the packet managers in Python, specifcally with **pip** (do you know what it PIP?).\n",
    "\n",
    "It's not limited only to Python and to Python libraries and also comes with a virtual envs manager, similar to the Python virtual envs.\n",
    "\n",
    "On the Anaconda's website you will find to ways to download `conda`:\n",
    "- Anaconda\n",
    "- Miniconda\n",
    "\n",
    "Anaconda, apart from being also the name of the company right now, is the name of a software distribution from Anaconda Inc.. It contains conda, Python and a huge collection of libraries used with for analytics and research.\n",
    "\n",
    "Miniconda, on the other side, is just conda with a Python interpreter, much more lean.\n",
    "\n",
    "Conda is de-facto the standard when you are working with Python and Data, it makes much easier the painful routine of dealing with dependencies, specifically when they are not just related to Python."
   ]
  },
  {
   "cell_type": "markdown",
   "metadata": {},
   "source": [
    "### [Jupyter](https://www.jupyter.org)"
   ]
  },
  {
   "cell_type": "markdown",
   "metadata": {},
   "source": [
    "Jupyter is the new name for what once called IPython Notebook.\n",
    "The name has 2 purposes:\n",
    "- underline the strong connection with science and with the first `notebook` wrote by Galileo Galileo in which data and analysis are put together, in the first `notebook` Galileo Galilei was studying Jupiter\n",
    "- The strong connection with 3 languages, Julia, Python and R\n",
    "\n",
    "Jupyter today is a big collection of projects, including Jupyter Notebook, JupyterHub, the new JupyterLab and many others.\n",
    "\n",
    "Jupyter notebook brings an enchanced REPL experience inside your browser, basically you can run Python commands from your browser and Jupyter Notebook will take care of execute them.\n",
    "Under the hood this process is done by the Jupyter Notebook, a communication protocol and a kernel (generally IPython)\n",
    "\n",
    "![jupyter architecture](../images/notebook_components.png)"
   ]
  },
  {
   "cell_type": "markdown",
   "metadata": {},
   "source": [
    "## How to use them together"
   ]
  },
  {
   "cell_type": "markdown",
   "metadata": {},
   "source": [
    "Let's reformulate this question a little bit: **Why should you use them?**\n",
    "\n",
    "You can use Python with an editor, install the dependencies using pip, an exe installer or apt.\n",
    "\n",
    "**And Excel is still widely used....so?**"
   ]
  },
  {
   "cell_type": "code",
   "execution_count": null,
   "metadata": {
    "collapsed": true
   },
   "outputs": [],
   "source": [
    "Well someone wrote something very interesting about the growth of Python:"
   ]
  },
  {
   "cell_type": "markdown",
   "metadata": {
    "collapsed": true
   },
   "source": [
    "* [The Incredible Growth of Python](https://stackoverflow.blog/2017/09/06/incredible-growth-python/)\n",
    "* [Why is Python Growing So Quickly?](https://stackoverflow.blog/2017/09/14/python-growing-quickly/)\n",
    "* [A Tale of Two Industries: How Programming Languages Differ Between Wealthy and Developing Countries](https://stackoverflow.blog/2017/08/29/tale-two-industries-programming-languages-differ-wealthy-developing-countries/)"
   ]
  },
  {
   "cell_type": "markdown",
   "metadata": {},
   "source": [
    "The main point is that Python is growing and every day more companies add Python to their stack."
   ]
  },
  {
   "cell_type": "markdown",
   "metadata": {},
   "source": [
    "## How to use conda to manage your envs"
   ]
  },
  {
   "cell_type": "markdown",
   "metadata": {},
   "source": [
    "We want to have a clean environment and we are going to use miniconda for this"
   ]
  },
  {
   "cell_type": "markdown",
   "metadata": {},
   "source": [
    "```bash\n",
    "conda --help\n",
    "```"
   ]
  },
  {
   "cell_type": "markdown",
   "metadata": {},
   "source": [
    "```bash\n",
    "# create a new env called `pandas-on-jupyter` based on Python 3\n",
    "conda create -n pandas-on-jupyter python=3\n",
    "```"
   ]
  },
  {
   "cell_type": "markdown",
   "metadata": {},
   "source": [
    "```bash\n",
    "# to activate the env\n",
    "source activate pandas-on-jupyter\n",
    "```"
   ]
  },
  {
   "cell_type": "markdown",
   "metadata": {},
   "source": [
    "```bash\n",
    "# to deactivate the env\n",
    "source deactivate\n",
    "```"
   ]
  },
  {
   "cell_type": "markdown",
   "metadata": {},
   "source": [
    "```bash\n",
    "jupyter notebook\n",
    "Error executing Jupyter command 'notebook': [Errno 2] No such file or directory\n",
    "```"
   ]
  },
  {
   "cell_type": "markdown",
   "metadata": {},
   "source": [
    "```bash\n",
    "# install jupyter in your current env\n",
    "conda install -c conda-forge jupyter\n",
    "```"
   ]
  },
  {
   "cell_type": "markdown",
   "metadata": {},
   "source": [
    "```bash\n",
    "# add more packages\n",
    "conda install -yc conda-forge numpy pandas scikit-learn matplotlib\n",
    "```"
   ]
  },
  {
   "cell_type": "markdown",
   "metadata": {},
   "source": [
    "```bash\n",
    "conda list\n",
    "```"
   ]
  },
  {
   "cell_type": "markdown",
   "metadata": {},
   "source": [
    "```bash\n",
    "pip list\n",
    "```"
   ]
  },
  {
   "cell_type": "markdown",
   "metadata": {},
   "source": [
    "```bash\n",
    "$ conda info\n",
    "               platform : osx-64\n",
    "          conda version : 4.3.21\n",
    "       conda is private : False\n",
    "      conda-env version : 4.3.21\n",
    "    conda-build version : not installed\n",
    "         python version : 3.6.0.final.0\n",
    "       requests version : 2.12.4\n",
    "       root environment : /Users/christianbarra/miniconda3  (writable)\n",
    "    default environment : /Users/christianbarra/miniconda3/envs/pandas-on-jupyter\n",
    "       envs directories : /Users/christianbarra/miniconda3/envs\n",
    "                          /Users/christianbarra/.conda/envs\n",
    "          package cache : /Users/christianbarra/miniconda3/pkgs\n",
    "                          /Users/christianbarra/.conda/pkgs\n",
    "           channel URLs : https://repo.continuum.io/pkgs/free/osx-64\n",
    "                          https://repo.continuum.io/pkgs/free/noarch\n",
    "                          https://repo.continuum.io/pkgs/r/osx-64\n",
    "                          https://repo.continuum.io/pkgs/r/noarch\n",
    "                          https://repo.continuum.io/pkgs/pro/osx-64\n",
    "                          https://repo.continuum.io/pkgs/pro/noarch\n",
    "            config file : None\n",
    "             netrc file : /Users/christianbarra/.netrc\n",
    "           offline mode : False\n",
    "             user-agent : conda/4.3.21 requests/2.12.4 CPython/3.6.0 Darwin/16.7.0 OSX/10.12.6\n",
    "                UID:GID : 501:20\n",
    "```"
   ]
  },
  {
   "cell_type": "markdown",
   "metadata": {},
   "source": [
    "### How to share your env?"
   ]
  },
  {
   "cell_type": "markdown",
   "metadata": {},
   "source": [
    "With conda is very easy but there is a general pitfall: **they are specific to the platform you use.**"
   ]
  },
  {
   "cell_type": "markdown",
   "metadata": {},
   "source": [
    "```bash\n",
    "conda env export\n",
    "```"
   ]
  },
  {
   "cell_type": "markdown",
   "metadata": {},
   "source": [
    "```bash\n",
    "conda list -e > spec-file.txt\n",
    "cat spec-file.txt\n",
    "```"
   ]
  },
  {
   "cell_type": "markdown",
   "metadata": {},
   "source": [
    "```bash\n",
    "source deactivate\n",
    "```"
   ]
  },
  {
   "cell_type": "markdown",
   "metadata": {},
   "source": [
    "We get a list all our envs"
   ]
  },
  {
   "cell_type": "markdown",
   "metadata": {},
   "source": [
    "```bash\n",
    "conda env list\n",
    "```"
   ]
  },
  {
   "cell_type": "markdown",
   "metadata": {},
   "source": [
    "Delete an env"
   ]
  },
  {
   "cell_type": "markdown",
   "metadata": {},
   "source": [
    "```bash\n",
    "conda env remove -n pandas-on-jupyter\n",
    "```"
   ]
  },
  {
   "cell_type": "markdown",
   "metadata": {},
   "source": [
    "We recreate our env from zero, using our spec-file.txt"
   ]
  },
  {
   "cell_type": "markdown",
   "metadata": {},
   "source": [
    "```bash\n",
    "conda create --name pandas-on-jupyter --file spec-file.txt\n",
    "```"
   ]
  },
  {
   "cell_type": "markdown",
   "metadata": {},
   "source": [
    "Ready to move to the next chapter!"
   ]
  }
 ],
 "metadata": {
  "kernelspec": {
   "display_name": "Python 3",
   "language": "python",
   "name": "python3"
  },
  "language_info": {
   "codemirror_mode": {
    "name": "ipython",
    "version": 3
   },
   "file_extension": ".py",
   "mimetype": "text/x-python",
   "name": "python",
   "nbconvert_exporter": "python",
   "pygments_lexer": "ipython3",
   "version": "3.6.2"
  }
 },
 "nbformat": 4,
 "nbformat_minor": 2
}
